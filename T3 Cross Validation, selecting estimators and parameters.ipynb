{
 "cells": [
  {
   "cell_type": "markdown",
   "metadata": {},
   "source": [
    "# Model selection: choosing estimators and their parameters¶\n"
   ]
  },
  {
   "cell_type": "markdown",
   "metadata": {},
   "source": [
    "## Score, and cross-validated scores"
   ]
  },
  {
   "cell_type": "markdown",
   "metadata": {},
   "source": [
    "score evaluates the quality of fit (or the prediction) on new data."
   ]
  },
  {
   "cell_type": "code",
   "execution_count": 1,
   "metadata": {},
   "outputs": [
    {
     "data": {
      "text/plain": [
       "0.98"
      ]
     },
     "execution_count": 1,
     "metadata": {},
     "output_type": "execute_result"
    }
   ],
   "source": [
    "from sklearn import datasets, svm\n",
    "X_digits, y_digits = datasets.load_digits(return_X_y=True)\n",
    "svc = svm.SVC(C=1, kernel='linear')\n",
    "# Entrena el modelo con todos los datos menos los últimos 100, y evalúa en los últimos 100\n",
    "svc.fit(X_digits[:-100], y_digits[:-100]).score(X_digits[-100:], y_digits[-100:])\n"
   ]
  },
  {
   "cell_type": "markdown",
   "metadata": {},
   "source": [
    "### KFold cross validation\n",
    "\n",
    "A way to obtain a better measure of accuracy is to split the data in folds to subsequently train and test on each of these folds."
   ]
  },
  {
   "cell_type": "code",
   "execution_count": 2,
   "metadata": {},
   "outputs": [
    {
     "name": "stdout",
     "output_type": "stream",
     "text": [
      "[0.9348914858096828, 0.9565943238731218, 0.9398998330550918]\n"
     ]
    }
   ],
   "source": [
    "import numpy as np\n",
    "X_folds = np.array_split(X_digits, 3) # Split the data into 3 (almost) equal parts\n",
    "y_folds = np.array_split(y_digits, 3)\n",
    "scores = list() # Initialize empty list\n",
    "\n",
    "for k in range(3): # Por cada fold k\n",
    "    X_train = list(X_folds) # Copia de la lista de folds\n",
    "    X_test = X_train.pop(k) # Extrae el elemento en la posición 'k' actual y se usará como segmento prueba\n",
    "    X_train = np.concatenate(X_train) # concatena los elementos restantes para formar el segmento de entrenamiento\n",
    "    # Se repiten los pasos para las etiquetas\n",
    "    y_train = list(y_folds)\n",
    "    y_test = y_train.pop(k)\n",
    "    y_train = np.concatenate(y_train)\n",
    "    # Se entrena el modelo y se evalúa\n",
    "    scores.append(svc.fit(X_train, y_train).score(X_test, y_test))  \n",
    "print(scores)\n"
   ]
  },
  {
   "cell_type": "markdown",
   "metadata": {},
   "source": [
    "## Cross-validation generators\n",
    "Tools that generate indices to efficiently split the data according to several cross-validation strategies."
   ]
  },
  {
   "cell_type": "markdown",
   "metadata": {},
   "source": [
    "### Split Method: \n",
    "\n",
    "Se utiliza un objeto KFold con K de 5, y se imprimen los índices para ver cómo se generan los splits para el training set de cada fold."
   ]
  },
  {
   "cell_type": "code",
   "execution_count": 3,
   "metadata": {},
   "outputs": [
    {
     "name": "stdout",
     "output_type": "stream",
     "text": [
      "Train: [2 3 4 5 6 7 8 9] | test: [0 1]\n",
      "Train: [0 1 4 5 6 7 8 9] | test: [2 3]\n",
      "Train: [0 1 2 3 6 7 8 9] | test: [4 5]\n",
      "Train: [0 1 2 3 4 5 8 9] | test: [6 7]\n",
      "Train: [0 1 2 3 4 5 6 7] | test: [8 9]\n"
     ]
    }
   ],
   "source": [
    "from sklearn.model_selection import KFold, cross_val_score\n",
    "X = [\"a\", \"a\", \"a\", \"b\", \"b\", \"c\", \"c\", \"c\", \"c\", \"c\"]\n",
    "k_fold = KFold(n_splits=5) # Create KFold object set to split into 5 groups. \n",
    "# This object creates index pairs which will be assigned in the next for loop\n",
    "\n",
    "# for every group created by the KFold object, print the indices\n",
    "for train_indices, test_indices in k_fold.split(X): \n",
    "    print(\"Train: %s | test: %s\" % (train_indices, test_indices))"
   ]
  },
  {
   "cell_type": "markdown",
   "metadata": {},
   "source": [
    "Al aplicarlo al dataset digits:\n",
    "\n",
    "se hace un for loop con k_fold split, asignando valores a los índices.  Después, en cada loop se dividen los datos de entrenamiento y prueba, se hace el fit y se guarda el score en la lista scores"
   ]
  },
  {
   "cell_type": "code",
   "execution_count": 4,
   "metadata": {},
   "outputs": [
    {
     "name": "stdout",
     "output_type": "stream",
     "text": [
      "[0.9638888888888889, 0.9222222222222223, 0.9637883008356546, 0.9637883008356546, 0.9303621169916435]\n"
     ]
    }
   ],
   "source": [
    "k_fold = KFold(n_splits=5)\n",
    "scores = []\n",
    "\n",
    "for train_index, test_index in k_fold.split(X_digits):\n",
    "    X_train, X_test = X_digits[train_index], X_digits[test_index]\n",
    "    y_train, y_test = y_digits[train_index], y_digits[test_index]\n",
    "\n",
    "    svc.fit(X_train, y_train)\n",
    "\n",
    "    score = svc.score(X_test, y_test)\n",
    "    scores.append(score)\n",
    "\n",
    "print(scores)"
   ]
  },
  {
   "cell_type": "markdown",
   "metadata": {},
   "source": [
    "Ninja programmer:"
   ]
  },
  {
   "cell_type": "code",
   "execution_count": 5,
   "metadata": {},
   "outputs": [
    {
     "data": {
      "text/plain": [
       "[0.9638888888888889,\n",
       " 0.9222222222222223,\n",
       " 0.9637883008356546,\n",
       " 0.9637883008356546,\n",
       " 0.9303621169916435]"
      ]
     },
     "execution_count": 5,
     "metadata": {},
     "output_type": "execute_result"
    }
   ],
   "source": [
    "[svc.fit(X_digits[train], y_digits[train]).score(X_digits[test], y_digits[test])\n",
    " for train, test in k_fold.split(X_digits)]"
   ]
  },
  {
   "cell_type": "markdown",
   "metadata": {},
   "source": [
    "cross_val_score helper\n",
    "\n",
    "recibe como argumentos un estimador (svc = SVC()), el dataset (X_digits, y_digits) y el cross-validation object (k_fold = KFold(n_splits=5). \n",
    "\n",
    "Hace lo mismo que lo escrito anteriormente, pero de forma más compacta y eficiente. Elimina la necesidad de bucles explícitos y permite el entrenamiento y evaluación en paralelo con n_jobs\n",
    "\n",
    "Comento las líneas que ya fueron definidas antes.\n",
    "\n"
   ]
  },
  {
   "cell_type": "code",
   "execution_count": 6,
   "metadata": {},
   "outputs": [
    {
     "name": "stdout",
     "output_type": "stream",
     "text": [
      "[0.96388889 0.92222222 0.9637883  0.9637883  0.93036212]\n"
     ]
    }
   ],
   "source": [
    "# from sklearn.model_selection import cross_val_score\n",
    "# from sklearn.svm import SVC\n",
    "# from sklearn.model_selection import KFold\n",
    "\n",
    "# # Preparar los datos de entrada y las etiquetas\n",
    "# X_digits = # (asigna aquí tus datos de características)\n",
    "# y_digits = # (asigna aquí tus etiquetas correspondientes)\n",
    "\n",
    "# # Configurar la validación cruzada\n",
    "# k_fold = KFold(n_splits=5)  # Dividir los datos en 5 partes\n",
    "\n",
    "# # Crear una instancia del clasificador\n",
    "# svc = SVC()\n",
    "\n",
    "# Calcular los puntajes de validación cruzada\n",
    "scores = cross_val_score(svc, X_digits, y_digits, cv=k_fold, n_jobs=-1)\n",
    "\n",
    "# Imprimir los puntajes obtenidos\n",
    "print(scores)\n"
   ]
  },
  {
   "cell_type": "markdown",
   "metadata": {},
   "source": [
    "El scoring argument puede editarse para cambiar la métrica de evaluación. Por defecto, el score es el accuracy."
   ]
  },
  {
   "cell_type": "code",
   "execution_count": 7,
   "metadata": {},
   "outputs": [
    {
     "data": {
      "text/plain": [
       "array([0.96578289, 0.92708922, 0.96681476, 0.96362897, 0.93192644])"
      ]
     },
     "execution_count": 7,
     "metadata": {},
     "output_type": "execute_result"
    }
   ],
   "source": [
    "cross_val_score(svc, X_digits, y_digits, cv=k_fold, scoring='precision_macro')"
   ]
  },
  {
   "cell_type": "markdown",
   "metadata": {},
   "source": [
    "#### Exercise\n",
    "\n",
    "On the digits dataset, plot the cross-validation score of a SVC estimator with a linear kernel as a function of parameter C (use a logarithmic grid of points, from 1 to 10)."
   ]
  },
  {
   "cell_type": "code",
   "execution_count": 17,
   "metadata": {},
   "outputs": [
    {
     "name": "stdout",
     "output_type": "stream",
     "text": [
      "C:  1e-10\n",
      "C:  1.2618568830660183e-10\n",
      "C:  1.592282793341094e-10\n",
      "C:  2.0092330025650458e-10\n",
      "C:  2.5353644939701164e-10\n",
      "C:  3.1992671377973845e-10\n",
      "C:  4.03701725859655e-10\n",
      "C:  5.094138014816385e-10\n",
      "C:  6.428073117284319e-10\n",
      "C:  8.111308307896856e-10\n",
      "C:  1.0235310218990269e-09\n",
      "C:  1.2915496650148826e-09\n",
      "C:  1.6297508346206469e-09\n",
      "C:  2.0565123083486515e-09\n",
      "C:  2.595024211399732e-09\n",
      "C:  3.2745491628777316e-09\n",
      "C:  4.132012400115335e-09\n",
      "C:  5.214008287999674e-09\n",
      "C:  6.579332246575682e-09\n",
      "C:  8.302175681319736e-09\n",
      "C:  1.0476157527896662e-08\n",
      "C:  1.3219411484660288e-08\n",
      "C:  1.6681005372000592e-08\n",
      "C:  2.104904144512022e-08\n",
      "C:  2.656087782946684e-08\n",
      "C:  3.351602650938841e-08\n",
      "C:  4.229242874389499e-08\n",
      "C:  5.336699231206302e-08\n",
      "C:  6.734150657750828e-08\n",
      "C:  8.497534359086438e-08\n",
      "C:  1.0722672220103232e-07\n",
      "C:  1.3530477745798075e-07\n",
      "C:  1.7073526474706888e-07\n",
      "C:  2.1544346900318867e-07\n",
      "C:  2.71858824273294e-07\n",
      "C:  3.4304692863149193e-07\n",
      "C:  4.3287612810830616e-07\n",
      "C:  5.462277217684337e-07\n",
      "C:  6.892612104349695e-07\n",
      "C:  8.697490026177835e-07\n",
      "C:  1.0974987654930568e-06\n",
      "C:  1.3848863713938717e-06\n",
      "C:  1.747528400007683e-06\n",
      "C:  2.2051307399030456e-06\n",
      "C:  2.782559402207126e-06\n",
      "C:  3.5111917342151275e-06\n",
      "C:  4.430621457583877e-06\n",
      "C:  5.590810182512223e-06\n",
      "C:  7.0548023107186455e-06\n",
      "C:  8.902150854450392e-06\n",
      "C:  1.1233240329780266e-05\n",
      "C:  1.4174741629268048e-05\n",
      "C:  1.7886495290574353e-05\n",
      "C:  2.2570197196339216e-05\n",
      "C:  2.848035868435799e-05\n",
      "C:  3.5938136638046256e-05\n",
      "C:  4.534878508128582e-05\n",
      "C:  5.72236765935022e-05\n",
      "C:  7.220809018385456e-05\n",
      "C:  9.111627561154887e-05\n",
      "C:  0.00011497569953977356\n",
      "C:  0.000145082877849594\n",
      "C:  0.0001830738280295366\n",
      "C:  0.0002310129700083158\n",
      "C:  0.0002915053062825176\n",
      "C:  0.0003678379771828634\n",
      "C:  0.0004641588833612782\n",
      "C:  0.0005857020818056661\n",
      "C:  0.0007390722033525775\n",
      "C:  0.0009326033468832199\n",
      "C:  0.0011768119524349992\n",
      "C:  0.0014849682622544635\n",
      "C:  0.001873817422860383\n",
      "C:  0.002364489412645407\n",
      "C:  0.0029836472402833404\n",
      "C:  0.0037649358067924636\n",
      "C:  0.004750810162102793\n",
      "C:  0.005994842503189409\n",
      "C:  0.007564633275546291\n",
      "C:  0.009545484566618327\n",
      "C:  0.012045035402587835\n",
      "C:  0.01519911082952933\n",
      "C:  0.019179102616724848\n",
      "C:  0.024201282647943835\n",
      "C:  0.030538555088334123\n",
      "C:  0.038535285937105354\n",
      "C:  0.04862601580065353\n",
      "C:  0.06135907273413163\n",
      "C:  0.07742636826811278\n",
      "C:  0.09770099572992247\n",
      "C:  0.12328467394420634\n",
      "C:  0.15556761439304723\n",
      "C:  0.19630406500402683\n",
      "C:  0.2477076355991714\n",
      "C:  0.31257158496882353\n",
      "C:  0.39442060594376477\n",
      "C:  0.49770235643321137\n",
      "C:  0.6280291441834247\n",
      "C:  0.7924828983539186\n",
      "C:  1.0\n",
      "[0.15754874651810585, 0.15754874651810585, 0.15754874651810585, 0.15754874651810585, 0.15754874651810585, 0.15754874651810585, 0.15754874651810585, 0.15754874651810585, 0.15754874651810585, 0.15754874651810585, 0.15754874651810585, 0.15754874651810585, 0.15754874651810585, 0.15754874651810585, 0.15754874651810585, 0.15754874651810585, 0.15754874651810585, 0.15754874651810585, 0.15754874651810585, 0.15754874651810585, 0.15754874651810585, 0.15754874651810585, 0.15754874651810585, 0.15754874651810585, 0.15754874651810585, 0.15754874651810585, 0.15754874651810585, 0.15754874651810585, 0.15754874651810585, 0.15754874651810585, 0.15754874651810585, 0.15754874651810585, 0.15754874651810585, 0.15754874651810585, 0.15754874651810585, 0.15754874651810585, 0.15754874651810585, 0.15754874651810585, 0.15754874651810585, 0.15754874651810585, 0.15754874651810585, 0.15754874651810585, 0.15754874651810585, 0.15754874651810585, 0.15754874651810585, 0.16422160321881768, 0.2899891674404209, 0.5008774373259053, 0.6494614670380687, 0.7228799133395234, 0.7935499845249149, 0.860891364902507, 0.8803744970597338, 0.8931708449396473, 0.9026276694521821, 0.9065273909006499, 0.9154302073661406, 0.9260043330238317, 0.9287898483441659, 0.9304565150108326, 0.9315691736304551, 0.9376895697926338, 0.9443655215103682, 0.9432544103992573, 0.9465954812751471, 0.9493779015784588, 0.94937944908697, 0.951047663262148, 0.9493779015784586, 0.9493779015784586, 0.954385639121015, 0.9549365521510367, 0.9543825441039925, 0.9504921077065923, 0.9510492107706593, 0.9477096874032807, 0.9482652429588363, 0.949374806561436, 0.9499288146084803, 0.9493686165273909, 0.9488099659548128, 0.948811513463324, 0.9482544103992572, 0.9476973073351903, 0.9476973073351903, 0.9476973073351903, 0.9476973073351903, 0.9476973073351903, 0.9476973073351903, 0.9476973073351903, 0.9476973073351903, 0.9476973073351903, 0.9476973073351903, 0.9476973073351903, 0.9476973073351903, 0.9476973073351903, 0.9476973073351903, 0.9476973073351903, 0.9476973073351903, 0.9476973073351903]\n"
     ]
    },
    {
     "data": {
      "image/png": "[encoded data removed]",
      "text/plain": [
       "<Figure size 640x480 with 1 Axes>"
      ]
     },
     "metadata": {},
     "output_type": "display_data"
    }
   ],
   "source": [
    "\"\"\"\n",
    "On the digits dataset, plot the cross-validation score of a SVC estimator with a linear kernel \n",
    "as a function of parameter C (use a logarithmic grid of points, from 1 to 10).\n",
    "\"\"\"\n",
    "import numpy as np\n",
    "import matplotlib.pyplot as plt\n",
    "from sklearn.model_selection import cross_val_score\n",
    "from sklearn import datasets, svm\n",
    "\n",
    "# Load dataset\n",
    "X_digits, y_digits = datasets.load_digits(return_X_y=True)\n",
    "\n",
    "# Define logspace range for C parameter\n",
    "C_range = np.logspace(-10, -0, 100)  \n",
    "\n",
    "# Initialize SVC estimator\n",
    "svc = svm.SVC(kernel=\"linear\")\n",
    "# \n",
    "# For each value of C in the logspace range, calculate the cross-validation score with cross_val_score function\n",
    "scores = []\n",
    "for C in C_range:\n",
    "    print(\"C: \", C)\n",
    "    svc.C = C\n",
    "    this_scores = cross_val_score(svc, X_digits, y_digits, n_jobs=-1)\n",
    "    scores.append(np.mean(this_scores))\n",
    "\n",
    "# Print the scores\n",
    "print(scores)\n",
    "\n",
    "\n",
    "\n",
    "# Plot the cross-validation scores as a function of C\n",
    "plt.figure()\n",
    "plt.xlabel(\"C\")\n",
    "plt.ylabel(\"Score\")\n",
    "plt.title(\"Cross-validation score as a function of C\")\n",
    "plt.plot(C_range, scores)\n",
    "plt.xscale(\"log\")\n",
    "plt.show()\n",
    "\n",
    "\n"
   ]
  },
  {
   "cell_type": "markdown",
   "metadata": {},
   "source": [
    "We can see the values change at values between 10^-4.5 and 10^5.5"
   ]
  },
  {
   "cell_type": "code",
   "execution_count": null,
   "metadata": {},
   "outputs": [],
   "source": []
  }
 ],
 "metadata": {
  "kernelspec": {
   "display_name": "scikitlearn_tutorial_venv",
   "language": "python",
   "name": "python3"
  },
  "language_info": {
   "codemirror_mode": {
    "name": "ipython",
    "version": 3
   },
   "file_extension": ".py",
   "mimetype": "text/x-python",
   "name": "python",
   "nbconvert_exporter": "python",
   "pygments_lexer": "ipython3",
   "version": "3.12.1"
  }
 },
 "nbformat": 4,
 "nbformat_minor": 2
}
