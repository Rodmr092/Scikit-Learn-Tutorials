{
 "cells": [
  {
   "cell_type": "markdown",
   "metadata": {},
   "source": [
    "# Model selection: choosing estimators and their parameters¶\n"
   ]
  },
  {
   "cell_type": "markdown",
   "metadata": {},
   "source": [
    "## Score, and cross-validated scores"
   ]
  },
  {
   "cell_type": "markdown",
   "metadata": {},
   "source": [
    "score evaluates the quality of fit (or the prediction) on new data."
   ]
  },
  {
   "cell_type": "code",
   "execution_count": 1,
   "metadata": {},
   "outputs": [
    {
     "data": {
      "text/plain": [
       "0.98"
      ]
     },
     "execution_count": 1,
     "metadata": {},
     "output_type": "execute_result"
    }
   ],
   "source": [
    "from sklearn import datasets, svm\n",
    "X_digits, y_digits = datasets.load_digits(return_X_y=True)\n",
    "svc = svm.SVC(C=1, kernel='linear')\n",
    "# Entrena el modelo con todos los datos menos los últimos 100, y evalúa en los últimos 100\n",
    "svc.fit(X_digits[:-100], y_digits[:-100]).score(X_digits[-100:], y_digits[-100:])\n"
   ]
  },
  {
   "cell_type": "markdown",
   "metadata": {},
   "source": [
    "### KFold cross validation\n",
    "\n",
    "A way to obtain a better measure of accuracy is to split the data in folds to subsequently train and test on each of these folds."
   ]
  },
  {
   "cell_type": "code",
   "execution_count": 2,
   "metadata": {},
   "outputs": [
    {
     "name": "stdout",
     "output_type": "stream",
     "text": [
      "[0.9348914858096828, 0.9565943238731218, 0.9398998330550918]\n"
     ]
    }
   ],
   "source": [
    "import numpy as np\n",
    "X_folds = np.array_split(X_digits, 3) # Split the data into 3 (almost) equal parts\n",
    "y_folds = np.array_split(y_digits, 3)\n",
    "scores = list() # Initialize empty list\n",
    "\n",
    "for k in range(3): # Por cada fold k\n",
    "    X_train = list(X_folds) # Copia de la lista de folds\n",
    "    X_test = X_train.pop(k) # Extrae el elemento en la posición 'k' actual y se usará como segmento prueba\n",
    "    X_train = np.concatenate(X_train) # concatena los elementos restantes para formar el segmento de entrenamiento\n",
    "    # Se repiten los pasos para las etiquetas\n",
    "    y_train = list(y_folds)\n",
    "    y_test = y_train.pop(k)\n",
    "    y_train = np.concatenate(y_train)\n",
    "    # Se entrena el modelo y se evalúa\n",
    "    scores.append(svc.fit(X_train, y_train).score(X_test, y_test))  \n",
    "print(scores)\n"
   ]
  },
  {
   "cell_type": "markdown",
   "metadata": {},
   "source": [
    "## Cross-validation generators\n",
    "Tools that generate indices to efficiently split the data according to several cross-validation strategies."
   ]
  },
  {
   "cell_type": "markdown",
   "metadata": {},
   "source": [
    "### Split Method: \n",
    "\n",
    "Se utiliza un objeto KFold con K de 5, y se imprimen los índices para ver cómo se generan los splits para el training set de cada fold."
   ]
  },
  {
   "cell_type": "code",
   "execution_count": 3,
   "metadata": {},
   "outputs": [
    {
     "name": "stdout",
     "output_type": "stream",
     "text": [
      "Train: [2 3 4 5 6 7 8 9] | test: [0 1]\n",
      "Train: [0 1 4 5 6 7 8 9] | test: [2 3]\n",
      "Train: [0 1 2 3 6 7 8 9] | test: [4 5]\n",
      "Train: [0 1 2 3 4 5 8 9] | test: [6 7]\n",
      "Train: [0 1 2 3 4 5 6 7] | test: [8 9]\n"
     ]
    }
   ],
   "source": [
    "from sklearn.model_selection import KFold, cross_val_score\n",
    "X = [\"a\", \"a\", \"a\", \"b\", \"b\", \"c\", \"c\", \"c\", \"c\", \"c\"]\n",
    "k_fold = KFold(n_splits=5) # Create KFold object set to split into 5 groups. \n",
    "# This object creates index pairs which will be assigned in the next for loop\n",
    "\n",
    "# for every group created by the KFold object, print the indices\n",
    "for train_indices, test_indices in k_fold.split(X): \n",
    "    print(\"Train: %s | test: %s\" % (train_indices, test_indices))"
   ]
  },
  {
   "cell_type": "markdown",
   "metadata": {},
   "source": [
    "Al aplicarlo al dataset digits:\n",
    "\n",
    "se hace un for loop con k_fold split, asignando valores a los índices.  Después, en cada loop se dividen los datos de entrenamiento y prueba, se hace el fit y se guarda el score en la lista scores"
   ]
  },
  {
   "cell_type": "code",
   "execution_count": 4,
   "metadata": {},
   "outputs": [
    {
     "name": "stdout",
     "output_type": "stream",
     "text": [
      "[0.9638888888888889, 0.9222222222222223, 0.9637883008356546, 0.9637883008356546, 0.9303621169916435]\n"
     ]
    }
   ],
   "source": [
    "k_fold = KFold(n_splits=5)\n",
    "scores = []\n",
    "\n",
    "for train_index, test_index in k_fold.split(X_digits):\n",
    "    X_train, X_test = X_digits[train_index], X_digits[test_index]\n",
    "    y_train, y_test = y_digits[train_index], y_digits[test_index]\n",
    "\n",
    "    svc.fit(X_train, y_train)\n",
    "\n",
    "    score = svc.score(X_test, y_test)\n",
    "    scores.append(score)\n",
    "\n",
    "print(scores)"
   ]
  },
  {
   "cell_type": "markdown",
   "metadata": {},
   "source": [
    "Ninja programmer:"
   ]
  },
  {
   "cell_type": "code",
   "execution_count": 5,
   "metadata": {},
   "outputs": [
    {
     "data": {
      "text/plain": [
       "[0.9638888888888889,\n",
       " 0.9222222222222223,\n",
       " 0.9637883008356546,\n",
       " 0.9637883008356546,\n",
       " 0.9303621169916435]"
      ]
     },
     "execution_count": 5,
     "metadata": {},
     "output_type": "execute_result"
    }
   ],
   "source": [
    "[svc.fit(X_digits[train], y_digits[train]).score(X_digits[test], y_digits[test])\n",
    " for train, test in k_fold.split(X_digits)]"
   ]
  },
  {
   "cell_type": "markdown",
   "metadata": {},
   "source": [
    "cross_val_score helper\n",
    "\n",
    "recibe como argumentos un estimador (svc = SVC()), el dataset (X_digits, y_digits) y el cross-validation object (k_fold = KFold(n_splits=5). \n",
    "\n",
    "Hace lo mismo que lo escrito anteriormente, pero de forma más compacta y eficiente. Elimina la necesidad de bucles explícitos y permite el entrenamiento y evaluación en paralelo con n_jobs\n",
    "\n",
    "Comento las líneas que ya fueron definidas antes.\n",
    "\n"
   ]
  },
  {
   "cell_type": "code",
   "execution_count": 6,
   "metadata": {},
   "outputs": [
    {
     "name": "stdout",
     "output_type": "stream",
     "text": [
      "[0.96388889 0.92222222 0.9637883  0.9637883  0.93036212]\n"
     ]
    }
   ],
   "source": [
    "# from sklearn.model_selection import cross_val_score\n",
    "# from sklearn.svm import SVC\n",
    "# from sklearn.model_selection import KFold\n",
    "\n",
    "# # Preparar los datos de entrada y las etiquetas\n",
    "# X_digits = # (asigna aquí tus datos de características)\n",
    "# y_digits = # (asigna aquí tus etiquetas correspondientes)\n",
    "\n",
    "# # Configurar la validación cruzada\n",
    "# k_fold = KFold(n_splits=5)  # Dividir los datos en 5 partes\n",
    "\n",
    "# # Crear una instancia del clasificador\n",
    "# svc = SVC()\n",
    "\n",
    "# Calcular los puntajes de validación cruzada\n",
    "scores = cross_val_score(svc, X_digits, y_digits, cv=k_fold, n_jobs=-1)\n",
    "\n",
    "# Imprimir los puntajes obtenidos\n",
    "print(scores)\n"
   ]
  },
  {
   "cell_type": "markdown",
   "metadata": {},
   "source": [
    "El scoring argument puede editarse para cambiar la métrica de evaluación. Por defecto, el score es el accuracy."
   ]
  },
  {
   "cell_type": "code",
   "execution_count": 7,
   "metadata": {},
   "outputs": [
    {
     "data": {
      "text/plain": [
       "array([0.96578289, 0.92708922, 0.96681476, 0.96362897, 0.93192644])"
      ]
     },
     "execution_count": 7,
     "metadata": {},
     "output_type": "execute_result"
    }
   ],
   "source": [
    "cross_val_score(svc, X_digits, y_digits, cv=k_fold, scoring='precision_macro')"
   ]
  },
  {
   "cell_type": "markdown",
   "metadata": {},
   "source": [
    "#### Exercise\n",
    "\n",
    "On the digits dataset, plot the cross-validation score of a SVC estimator with a linear kernel as a function of parameter C (use a logarithmic grid of points)."
   ]
  },
  {
   "cell_type": "code",
   "execution_count": 8,
   "metadata": {},
   "outputs": [
    {
     "name": "stdout",
     "output_type": "stream",
     "text": [
      "C:  1e-10\n",
      "C:  1.2618568830660183e-10\n",
      "C:  1.592282793341094e-10\n",
      "C:  2.0092330025650458e-10\n",
      "C:  2.5353644939701164e-10\n",
      "C:  3.1992671377973845e-10\n",
      "C:  4.03701725859655e-10\n",
      "C:  5.094138014816385e-10\n",
      "C:  6.428073117284319e-10\n",
      "C:  8.111308307896856e-10\n",
      "C:  1.0235310218990269e-09\n",
      "C:  1.2915496650148826e-09\n",
      "C:  1.6297508346206469e-09\n",
      "C:  2.0565123083486515e-09\n",
      "C:  2.595024211399732e-09\n",
      "C:  3.2745491628777316e-09\n",
      "C:  4.132012400115335e-09\n",
      "C:  5.214008287999674e-09\n",
      "C:  6.579332246575682e-09\n",
      "C:  8.302175681319736e-09\n",
      "C:  1.0476157527896662e-08\n",
      "C:  1.3219411484660288e-08\n",
      "C:  1.6681005372000592e-08\n",
      "C:  2.104904144512022e-08\n",
      "C:  2.656087782946684e-08\n",
      "C:  3.351602650938841e-08\n",
      "C:  4.229242874389499e-08\n",
      "C:  5.336699231206302e-08\n",
      "C:  6.734150657750828e-08\n",
      "C:  8.497534359086438e-08\n",
      "C:  1.0722672220103232e-07\n",
      "C:  1.3530477745798075e-07\n",
      "C:  1.7073526474706888e-07\n",
      "C:  2.1544346900318867e-07\n",
      "C:  2.71858824273294e-07\n",
      "C:  3.4304692863149193e-07\n",
      "C:  4.3287612810830616e-07\n",
      "C:  5.462277217684337e-07\n",
      "C:  6.892612104349695e-07\n",
      "C:  8.697490026177835e-07\n",
      "C:  1.0974987654930568e-06\n",
      "C:  1.3848863713938717e-06\n",
      "C:  1.747528400007683e-06\n",
      "C:  2.2051307399030456e-06\n",
      "C:  2.782559402207126e-06\n",
      "C:  3.5111917342151275e-06\n",
      "C:  4.430621457583877e-06\n",
      "C:  5.590810182512223e-06\n",
      "C:  7.0548023107186455e-06\n",
      "C:  8.902150854450392e-06\n",
      "C:  1.1233240329780266e-05\n",
      "C:  1.4174741629268048e-05\n",
      "C:  1.7886495290574353e-05\n",
      "C:  2.2570197196339216e-05\n",
      "C:  2.848035868435799e-05\n",
      "C:  3.5938136638046256e-05\n",
      "C:  4.534878508128582e-05\n",
      "C:  5.72236765935022e-05\n",
      "C:  7.220809018385456e-05\n",
      "C:  9.111627561154887e-05\n",
      "C:  0.00011497569953977356\n",
      "C:  0.000145082877849594\n",
      "C:  0.0001830738280295366\n",
      "C:  0.0002310129700083158\n",
      "C:  0.0002915053062825176\n",
      "C:  0.0003678379771828634\n",
      "C:  0.0004641588833612782\n",
      "C:  0.0005857020818056661\n",
      "C:  0.0007390722033525775\n",
      "C:  0.0009326033468832199\n",
      "C:  0.0011768119524349992\n",
      "C:  0.0014849682622544635\n",
      "C:  0.001873817422860383\n",
      "C:  0.002364489412645407\n",
      "C:  0.0029836472402833404\n",
      "C:  0.0037649358067924636\n",
      "C:  0.004750810162102793\n",
      "C:  0.005994842503189409\n",
      "C:  0.007564633275546291\n",
      "C:  0.009545484566618327\n",
      "C:  0.012045035402587835\n",
      "C:  0.01519911082952933\n",
      "C:  0.019179102616724848\n",
      "C:  0.024201282647943835\n",
      "C:  0.030538555088334123\n",
      "C:  0.038535285937105354\n",
      "C:  0.04862601580065353\n",
      "C:  0.06135907273413163\n",
      "C:  0.07742636826811278\n",
      "C:  0.09770099572992247\n",
      "C:  0.12328467394420634\n",
      "C:  0.15556761439304723\n",
      "C:  0.19630406500402683\n",
      "C:  0.2477076355991714\n",
      "C:  0.31257158496882353\n",
      "C:  0.39442060594376477\n",
      "C:  0.49770235643321137\n",
      "C:  0.6280291441834247\n",
      "C:  0.7924828983539186\n",
      "C:  1.0\n",
      "[0.15754874651810585, 0.15754874651810585, 0.15754874651810585, 0.15754874651810585, 0.15754874651810585, 0.15754874651810585, 0.15754874651810585, 0.15754874651810585, 0.15754874651810585, 0.15754874651810585, 0.15754874651810585, 0.15754874651810585, 0.15754874651810585, 0.15754874651810585, 0.15754874651810585, 0.15754874651810585, 0.15754874651810585, 0.15754874651810585, 0.15754874651810585, 0.15754874651810585, 0.15754874651810585, 0.15754874651810585, 0.15754874651810585, 0.15754874651810585, 0.15754874651810585, 0.15754874651810585, 0.15754874651810585, 0.15754874651810585, 0.15754874651810585, 0.15754874651810585, 0.15754874651810585, 0.15754874651810585, 0.15754874651810585, 0.15754874651810585, 0.15754874651810585, 0.15754874651810585, 0.15754874651810585, 0.15754874651810585, 0.15754874651810585, 0.15754874651810585, 0.15754874651810585, 0.15754874651810585, 0.15754874651810585, 0.15754874651810585, 0.15754874651810585, 0.16422160321881768, 0.2899891674404209, 0.5008774373259053, 0.6494614670380687, 0.7228799133395234, 0.7935499845249149, 0.860891364902507, 0.8803744970597338, 0.8931708449396473, 0.9026276694521821, 0.9065273909006499, 0.9154302073661406, 0.9260043330238317, 0.9287898483441659, 0.9304565150108326, 0.9315691736304551, 0.9376895697926338, 0.9443655215103682, 0.9432544103992573, 0.9465954812751471, 0.9493779015784588, 0.94937944908697, 0.951047663262148, 0.9493779015784586, 0.9493779015784586, 0.954385639121015, 0.9549365521510367, 0.9543825441039925, 0.9504921077065923, 0.9510492107706593, 0.9477096874032807, 0.9482652429588363, 0.949374806561436, 0.9499288146084803, 0.9493686165273909, 0.9488099659548128, 0.948811513463324, 0.9482544103992572, 0.9476973073351903, 0.9476973073351903, 0.9476973073351903, 0.9476973073351903, 0.9476973073351903, 0.9476973073351903, 0.9476973073351903, 0.9476973073351903, 0.9476973073351903, 0.9476973073351903, 0.9476973073351903, 0.9476973073351903, 0.9476973073351903, 0.9476973073351903, 0.9476973073351903, 0.9476973073351903, 0.9476973073351903]\n"
     ]
    },
    {
     "data": {
      "image/png": "[encoded data removed]",
      "text/plain": [
       "<Figure size 640x480 with 1 Axes>"
      ]
     },
     "metadata": {},
     "output_type": "display_data"
    }
   ],
   "source": [
    "\"\"\"\n",
    "On the digits dataset, plot the cross-validation score of a SVC estimator with a linear kernel \n",
    "as a function of parameter C (use a logarithmic grid of points)\n",
    "\"\"\"\n",
    "import numpy as np\n",
    "import matplotlib.pyplot as plt\n",
    "from sklearn.model_selection import cross_val_score\n",
    "from sklearn import datasets, svm\n",
    "\n",
    "# Load dataset\n",
    "X_digits, y_digits = datasets.load_digits(return_X_y=True)\n",
    "\n",
    "# Define logspace range for C parameter\n",
    "C_range = np.logspace(-10, -0, 100)  \n",
    "\n",
    "# Initialize SVC estimator\n",
    "svc = svm.SVC(kernel=\"linear\")\n",
    "# \n",
    "# For each value of C in the logspace range, calculate the cross-validation score with cross_val_score function\n",
    "scores = []\n",
    "for C in C_range:\n",
    "    print(\"C: \", C)\n",
    "    svc.C = C\n",
    "    this_scores = cross_val_score(svc, X_digits, y_digits, n_jobs=-1)\n",
    "    scores.append(np.mean(this_scores))\n",
    "\n",
    "# Print the scores\n",
    "print(scores)\n",
    "\n",
    "\n",
    "\n",
    "# Plot the cross-validation scores as a function of C\n",
    "plt.figure()\n",
    "plt.xlabel(\"C\")\n",
    "plt.ylabel(\"Score\")\n",
    "plt.title(\"Cross-validation score as a function of C\")\n",
    "plt.plot(C_range, scores)\n",
    "plt.xscale(\"log\")\n",
    "plt.show()\n",
    "\n",
    "\n"
   ]
  },
  {
   "cell_type": "markdown",
   "metadata": {},
   "source": [
    "We can see the a sigmoid function where the accuracy quickly improves at C values between 10^-4.5 and 10^-5.5"
   ]
  },
  {
   "cell_type": "markdown",
   "metadata": {},
   "source": [
    "## Grid search and cross-validated estimators"
   ]
  },
  {
   "cell_type": "markdown",
   "metadata": {},
   "source": [
    "Grid-search is an object that, given data; computes the score during the fit of an estimator on a parameter grid and chooses the parameters that maximize the cross-validation score.\n",
    "\n",
    "By default, GridSearchCV uses a 5-fold cross validation, and when it detects a classification problem it uses a stratified 5-fold"
   ]
  },
  {
   "cell_type": "markdown",
   "metadata": {},
   "source": [
    "### Using GridSearch to find the best value for the parameter C"
   ]
  },
  {
   "cell_type": "code",
   "execution_count": 13,
   "metadata": {},
   "outputs": [
    {
     "name": "stdout",
     "output_type": "stream",
     "text": [
      "C = 0.000001, Mean CV Score = 0.104000\n",
      "C = 0.000004, Mean CV Score = 0.104000\n",
      "C = 0.000013, Mean CV Score = 0.627000\n",
      "C = 0.000046, Mean CV Score = 0.879000\n",
      "C = 0.000167, Mean CV Score = 0.932000\n",
      "C = 0.000599, Mean CV Score = 0.937000\n",
      "C = 0.002154, Mean CV Score = 0.950000\n",
      "C = 0.007743, Mean CV Score = 0.945000\n",
      "C = 0.027826, Mean CV Score = 0.946000\n",
      "C = 0.100000, Mean CV Score = 0.946000\n"
     ]
    }
   ],
   "source": [
    "from sklearn.model_selection import GridSearchCV, cross_val_score\n",
    "Cs = np.logspace(-6, -1, 10)\n",
    "clf = GridSearchCV(estimator=svc, param_grid=dict(C=Cs), n_jobs=-1) # specify the C parameter range for the svc estimator.\n",
    "clf.fit(X_digits[:1000], y_digits[:1000])\n",
    "\n",
    "#Print of the C's and results\n",
    "for i in range(len(clf.cv_results_[\"mean_test_score\"])):\n",
    "    print(f\"C = {Cs[i]:.6f}, Mean CV Score = {clf.cv_results_['mean_test_score'][i]:.6f}\")"
   ]
  },
  {
   "cell_type": "code",
   "execution_count": 10,
   "metadata": {},
   "outputs": [
    {
     "data": {
      "text/plain": [
       "0.95"
      ]
     },
     "execution_count": 10,
     "metadata": {},
     "output_type": "execute_result"
    }
   ],
   "source": [
    "    clf.best_score_"
   ]
  },
  {
   "cell_type": "code",
   "execution_count": 11,
   "metadata": {},
   "outputs": [
    {
     "data": {
      "text/plain": [
       "0.0021544346900318843"
      ]
     },
     "execution_count": 11,
     "metadata": {},
     "output_type": "execute_result"
    }
   ],
   "source": [
    "clf.best_estimator_.C"
   ]
  },
  {
   "cell_type": "code",
   "execution_count": 12,
   "metadata": {},
   "outputs": [
    {
     "data": {
      "text/plain": [
       "0.946047678795483"
      ]
     },
     "execution_count": 12,
     "metadata": {},
     "output_type": "execute_result"
    }
   ],
   "source": [
    "clf.score(X_digits[1000:], y_digits[1000:])      \n"
   ]
  },
  {
   "cell_type": "markdown",
   "metadata": {},
   "source": [
    "### Nested Cross Validation\n",
    "When calling a cross_val_score on a GridSearchCV object, we are automatically searching for the optimal parameter and then using the best result for the cross validation of the whole model.\n",
    "\n",
    "This approach ensures that the parameter tuning and model validation are robust and generalize well to new data."
   ]
  },
  {
   "cell_type": "code",
   "execution_count": 14,
   "metadata": {},
   "outputs": [
    {
     "data": {
      "text/plain": [
       "array([0.94722222, 0.91666667, 0.96657382, 0.97493036, 0.93593315])"
      ]
     },
     "execution_count": 14,
     "metadata": {},
     "output_type": "execute_result"
    }
   ],
   "source": [
    "cross_val_score(clf, X_digits, y_digits) "
   ]
  },
  {
   "cell_type": "markdown",
   "metadata": {},
   "source": [
    "### Cross-validated estimators\n",
    "Scikit learn determines parameters automatically for some estimators by cross-validation"
   ]
  },
  {
   "cell_type": "code",
   "execution_count": 19,
   "metadata": {},
   "outputs": [
    {
     "data": {
      "text/html": [
       "<style>#sk-container-id-3 {\n",
       "  /* Definition of color scheme common for light and dark mode */\n",
       "  --sklearn-color-text: black;\n",
       "  --sklearn-color-line: gray;\n",
       "  /* Definition of color scheme for unfitted estimators */\n",
       "  --sklearn-color-unfitted-level-0: #fff5e6;\n",
       "  --sklearn-color-unfitted-level-1: #f6e4d2;\n",
       "  --sklearn-color-unfitted-level-2: #ffe0b3;\n",
       "  --sklearn-color-unfitted-level-3: chocolate;\n",
       "  /* Definition of color scheme for fitted estimators */\n",
       "  --sklearn-color-fitted-level-0: #f0f8ff;\n",
       "  --sklearn-color-fitted-level-1: #d4ebff;\n",
       "  --sklearn-color-fitted-level-2: #b3dbfd;\n",
       "  --sklearn-color-fitted-level-3: cornflowerblue;\n",
       "\n",
       "  /* Specific color for light theme */\n",
       "  --sklearn-color-text-on-default-background: var(--sg-text-color, var(--theme-code-foreground, var(--jp-content-font-color1, black)));\n",
       "  --sklearn-color-background: var(--sg-background-color, var(--theme-background, var(--jp-layout-color0, white)));\n",
       "  --sklearn-color-border-box: var(--sg-text-color, var(--theme-code-foreground, var(--jp-content-font-color1, black)));\n",
       "  --sklearn-color-icon: #696969;\n",
       "\n",
       "  @media (prefers-color-scheme: dark) {\n",
       "    /* Redefinition of color scheme for dark theme */\n",
       "    --sklearn-color-text-on-default-background: var(--sg-text-color, var(--theme-code-foreground, var(--jp-content-font-color1, white)));\n",
       "    --sklearn-color-background: var(--sg-background-color, var(--theme-background, var(--jp-layout-color0, #111)));\n",
       "    --sklearn-color-border-box: var(--sg-text-color, var(--theme-code-foreground, var(--jp-content-font-color1, white)));\n",
       "    --sklearn-color-icon: #878787;\n",
       "  }\n",
       "}\n",
       "\n",
       "#sk-container-id-3 {\n",
       "  color: var(--sklearn-color-text);\n",
       "}\n",
       "\n",
       "#sk-container-id-3 pre {\n",
       "  padding: 0;\n",
       "}\n",
       "\n",
       "#sk-container-id-3 input.sk-hidden--visually {\n",
       "  border: 0;\n",
       "  clip: rect(1px 1px 1px 1px);\n",
       "  clip: rect(1px, 1px, 1px, 1px);\n",
       "  height: 1px;\n",
       "  margin: -1px;\n",
       "  overflow: hidden;\n",
       "  padding: 0;\n",
       "  position: absolute;\n",
       "  width: 1px;\n",
       "}\n",
       "\n",
       "#sk-container-id-3 div.sk-dashed-wrapped {\n",
       "  border: 1px dashed var(--sklearn-color-line);\n",
       "  margin: 0 0.4em 0.5em 0.4em;\n",
       "  box-sizing: border-box;\n",
       "  padding-bottom: 0.4em;\n",
       "  background-color: var(--sklearn-color-background);\n",
       "}\n",
       "\n",
       "#sk-container-id-3 div.sk-container {\n",
       "  /* jupyter's `normalize.less` sets `[hidden] { display: none; }`\n",
       "     but bootstrap.min.css set `[hidden] { display: none !important; }`\n",
       "     so we also need the `!important` here to be able to override the\n",
       "     default hidden behavior on the sphinx rendered scikit-learn.org.\n",
       "     See: https://github.com/scikit-learn/scikit-learn/issues/21755 */\n",
       "  display: inline-block !important;\n",
       "  position: relative;\n",
       "}\n",
       "\n",
       "#sk-container-id-3 div.sk-text-repr-fallback {\n",
       "  display: none;\n",
       "}\n",
       "\n",
       "div.sk-parallel-item,\n",
       "div.sk-serial,\n",
       "div.sk-item {\n",
       "  /* draw centered vertical line to link estimators */\n",
       "  background-image: linear-gradient(var(--sklearn-color-text-on-default-background), var(--sklearn-color-text-on-default-background));\n",
       "  background-size: 2px 100%;\n",
       "  background-repeat: no-repeat;\n",
       "  background-position: center center;\n",
       "}\n",
       "\n",
       "/* Parallel-specific style estimator block */\n",
       "\n",
       "#sk-container-id-3 div.sk-parallel-item::after {\n",
       "  content: \"\";\n",
       "  width: 100%;\n",
       "  border-bottom: 2px solid var(--sklearn-color-text-on-default-background);\n",
       "  flex-grow: 1;\n",
       "}\n",
       "\n",
       "#sk-container-id-3 div.sk-parallel {\n",
       "  display: flex;\n",
       "  align-items: stretch;\n",
       "  justify-content: center;\n",
       "  background-color: var(--sklearn-color-background);\n",
       "  position: relative;\n",
       "}\n",
       "\n",
       "#sk-container-id-3 div.sk-parallel-item {\n",
       "  display: flex;\n",
       "  flex-direction: column;\n",
       "}\n",
       "\n",
       "#sk-container-id-3 div.sk-parallel-item:first-child::after {\n",
       "  align-self: flex-end;\n",
       "  width: 50%;\n",
       "}\n",
       "\n",
       "#sk-container-id-3 div.sk-parallel-item:last-child::after {\n",
       "  align-self: flex-start;\n",
       "  width: 50%;\n",
       "}\n",
       "\n",
       "#sk-container-id-3 div.sk-parallel-item:only-child::after {\n",
       "  width: 0;\n",
       "}\n",
       "\n",
       "/* Serial-specific style estimator block */\n",
       "\n",
       "#sk-container-id-3 div.sk-serial {\n",
       "  display: flex;\n",
       "  flex-direction: column;\n",
       "  align-items: center;\n",
       "  background-color: var(--sklearn-color-background);\n",
       "  padding-right: 1em;\n",
       "  padding-left: 1em;\n",
       "}\n",
       "\n",
       "\n",
       "/* Toggleable style: style used for estimator/Pipeline/ColumnTransformer box that is\n",
       "clickable and can be expanded/collapsed.\n",
       "- Pipeline and ColumnTransformer use this feature and define the default style\n",
       "- Estimators will overwrite some part of the style using the `sk-estimator` class\n",
       "*/\n",
       "\n",
       "/* Pipeline and ColumnTransformer style (default) */\n",
       "\n",
       "#sk-container-id-3 div.sk-toggleable {\n",
       "  /* Default theme specific background. It is overwritten whether we have a\n",
       "  specific estimator or a Pipeline/ColumnTransformer */\n",
       "  background-color: var(--sklearn-color-background);\n",
       "}\n",
       "\n",
       "/* Toggleable label */\n",
       "#sk-container-id-3 label.sk-toggleable__label {\n",
       "  cursor: pointer;\n",
       "  display: block;\n",
       "  width: 100%;\n",
       "  margin-bottom: 0;\n",
       "  padding: 0.5em;\n",
       "  box-sizing: border-box;\n",
       "  text-align: center;\n",
       "}\n",
       "\n",
       "#sk-container-id-3 label.sk-toggleable__label-arrow:before {\n",
       "  /* Arrow on the left of the label */\n",
       "  content: \"▸\";\n",
       "  float: left;\n",
       "  margin-right: 0.25em;\n",
       "  color: var(--sklearn-color-icon);\n",
       "}\n",
       "\n",
       "#sk-container-id-3 label.sk-toggleable__label-arrow:hover:before {\n",
       "  color: var(--sklearn-color-text);\n",
       "}\n",
       "\n",
       "/* Toggleable content - dropdown */\n",
       "\n",
       "#sk-container-id-3 div.sk-toggleable__content {\n",
       "  max-height: 0;\n",
       "  max-width: 0;\n",
       "  overflow: hidden;\n",
       "  text-align: left;\n",
       "  /* unfitted */\n",
       "  background-color: var(--sklearn-color-unfitted-level-0);\n",
       "}\n",
       "\n",
       "#sk-container-id-3 div.sk-toggleable__content.fitted {\n",
       "  /* fitted */\n",
       "  background-color: var(--sklearn-color-fitted-level-0);\n",
       "}\n",
       "\n",
       "#sk-container-id-3 div.sk-toggleable__content pre {\n",
       "  margin: 0.2em;\n",
       "  border-radius: 0.25em;\n",
       "  color: var(--sklearn-color-text);\n",
       "  /* unfitted */\n",
       "  background-color: var(--sklearn-color-unfitted-level-0);\n",
       "}\n",
       "\n",
       "#sk-container-id-3 div.sk-toggleable__content.fitted pre {\n",
       "  /* unfitted */\n",
       "  background-color: var(--sklearn-color-fitted-level-0);\n",
       "}\n",
       "\n",
       "#sk-container-id-3 input.sk-toggleable__control:checked~div.sk-toggleable__content {\n",
       "  /* Expand drop-down */\n",
       "  max-height: 200px;\n",
       "  max-width: 100%;\n",
       "  overflow: auto;\n",
       "}\n",
       "\n",
       "#sk-container-id-3 input.sk-toggleable__control:checked~label.sk-toggleable__label-arrow:before {\n",
       "  content: \"▾\";\n",
       "}\n",
       "\n",
       "/* Pipeline/ColumnTransformer-specific style */\n",
       "\n",
       "#sk-container-id-3 div.sk-label input.sk-toggleable__control:checked~label.sk-toggleable__label {\n",
       "  color: var(--sklearn-color-text);\n",
       "  background-color: var(--sklearn-color-unfitted-level-2);\n",
       "}\n",
       "\n",
       "#sk-container-id-3 div.sk-label.fitted input.sk-toggleable__control:checked~label.sk-toggleable__label {\n",
       "  background-color: var(--sklearn-color-fitted-level-2);\n",
       "}\n",
       "\n",
       "/* Estimator-specific style */\n",
       "\n",
       "/* Colorize estimator box */\n",
       "#sk-container-id-3 div.sk-estimator input.sk-toggleable__control:checked~label.sk-toggleable__label {\n",
       "  /* unfitted */\n",
       "  background-color: var(--sklearn-color-unfitted-level-2);\n",
       "}\n",
       "\n",
       "#sk-container-id-3 div.sk-estimator.fitted input.sk-toggleable__control:checked~label.sk-toggleable__label {\n",
       "  /* fitted */\n",
       "  background-color: var(--sklearn-color-fitted-level-2);\n",
       "}\n",
       "\n",
       "#sk-container-id-3 div.sk-label label.sk-toggleable__label,\n",
       "#sk-container-id-3 div.sk-label label {\n",
       "  /* The background is the default theme color */\n",
       "  color: var(--sklearn-color-text-on-default-background);\n",
       "}\n",
       "\n",
       "/* On hover, darken the color of the background */\n",
       "#sk-container-id-3 div.sk-label:hover label.sk-toggleable__label {\n",
       "  color: var(--sklearn-color-text);\n",
       "  background-color: var(--sklearn-color-unfitted-level-2);\n",
       "}\n",
       "\n",
       "/* Label box, darken color on hover, fitted */\n",
       "#sk-container-id-3 div.sk-label.fitted:hover label.sk-toggleable__label.fitted {\n",
       "  color: var(--sklearn-color-text);\n",
       "  background-color: var(--sklearn-color-fitted-level-2);\n",
       "}\n",
       "\n",
       "/* Estimator label */\n",
       "\n",
       "#sk-container-id-3 div.sk-label label {\n",
       "  font-family: monospace;\n",
       "  font-weight: bold;\n",
       "  display: inline-block;\n",
       "  line-height: 1.2em;\n",
       "}\n",
       "\n",
       "#sk-container-id-3 div.sk-label-container {\n",
       "  text-align: center;\n",
       "}\n",
       "\n",
       "/* Estimator-specific */\n",
       "#sk-container-id-3 div.sk-estimator {\n",
       "  font-family: monospace;\n",
       "  border: 1px dotted var(--sklearn-color-border-box);\n",
       "  border-radius: 0.25em;\n",
       "  box-sizing: border-box;\n",
       "  margin-bottom: 0.5em;\n",
       "  /* unfitted */\n",
       "  background-color: var(--sklearn-color-unfitted-level-0);\n",
       "}\n",
       "\n",
       "#sk-container-id-3 div.sk-estimator.fitted {\n",
       "  /* fitted */\n",
       "  background-color: var(--sklearn-color-fitted-level-0);\n",
       "}\n",
       "\n",
       "/* on hover */\n",
       "#sk-container-id-3 div.sk-estimator:hover {\n",
       "  /* unfitted */\n",
       "  background-color: var(--sklearn-color-unfitted-level-2);\n",
       "}\n",
       "\n",
       "#sk-container-id-3 div.sk-estimator.fitted:hover {\n",
       "  /* fitted */\n",
       "  background-color: var(--sklearn-color-fitted-level-2);\n",
       "}\n",
       "\n",
       "/* Specification for estimator info (e.g. \"i\" and \"?\") */\n",
       "\n",
       "/* Common style for \"i\" and \"?\" */\n",
       "\n",
       ".sk-estimator-doc-link,\n",
       "a:link.sk-estimator-doc-link,\n",
       "a:visited.sk-estimator-doc-link {\n",
       "  float: right;\n",
       "  font-size: smaller;\n",
       "  line-height: 1em;\n",
       "  font-family: monospace;\n",
       "  background-color: var(--sklearn-color-background);\n",
       "  border-radius: 1em;\n",
       "  height: 1em;\n",
       "  width: 1em;\n",
       "  text-decoration: none !important;\n",
       "  margin-left: 1ex;\n",
       "  /* unfitted */\n",
       "  border: var(--sklearn-color-unfitted-level-1) 1pt solid;\n",
       "  color: var(--sklearn-color-unfitted-level-1);\n",
       "}\n",
       "\n",
       ".sk-estimator-doc-link.fitted,\n",
       "a:link.sk-estimator-doc-link.fitted,\n",
       "a:visited.sk-estimator-doc-link.fitted {\n",
       "  /* fitted */\n",
       "  border: var(--sklearn-color-fitted-level-1) 1pt solid;\n",
       "  color: var(--sklearn-color-fitted-level-1);\n",
       "}\n",
       "\n",
       "/* On hover */\n",
       "div.sk-estimator:hover .sk-estimator-doc-link:hover,\n",
       ".sk-estimator-doc-link:hover,\n",
       "div.sk-label-container:hover .sk-estimator-doc-link:hover,\n",
       ".sk-estimator-doc-link:hover {\n",
       "  /* unfitted */\n",
       "  background-color: var(--sklearn-color-unfitted-level-3);\n",
       "  color: var(--sklearn-color-background);\n",
       "  text-decoration: none;\n",
       "}\n",
       "\n",
       "div.sk-estimator.fitted:hover .sk-estimator-doc-link.fitted:hover,\n",
       ".sk-estimator-doc-link.fitted:hover,\n",
       "div.sk-label-container:hover .sk-estimator-doc-link.fitted:hover,\n",
       ".sk-estimator-doc-link.fitted:hover {\n",
       "  /* fitted */\n",
       "  background-color: var(--sklearn-color-fitted-level-3);\n",
       "  color: var(--sklearn-color-background);\n",
       "  text-decoration: none;\n",
       "}\n",
       "\n",
       "/* Span, style for the box shown on hovering the info icon */\n",
       ".sk-estimator-doc-link span {\n",
       "  display: none;\n",
       "  z-index: 9999;\n",
       "  position: relative;\n",
       "  font-weight: normal;\n",
       "  right: .2ex;\n",
       "  padding: .5ex;\n",
       "  margin: .5ex;\n",
       "  width: min-content;\n",
       "  min-width: 20ex;\n",
       "  max-width: 50ex;\n",
       "  color: var(--sklearn-color-text);\n",
       "  box-shadow: 2pt 2pt 4pt #999;\n",
       "  /* unfitted */\n",
       "  background: var(--sklearn-color-unfitted-level-0);\n",
       "  border: .5pt solid var(--sklearn-color-unfitted-level-3);\n",
       "}\n",
       "\n",
       ".sk-estimator-doc-link.fitted span {\n",
       "  /* fitted */\n",
       "  background: var(--sklearn-color-fitted-level-0);\n",
       "  border: var(--sklearn-color-fitted-level-3);\n",
       "}\n",
       "\n",
       ".sk-estimator-doc-link:hover span {\n",
       "  display: block;\n",
       "}\n",
       "\n",
       "/* \"?\"-specific style due to the `<a>` HTML tag */\n",
       "\n",
       "#sk-container-id-3 a.estimator_doc_link {\n",
       "  float: right;\n",
       "  font-size: 1rem;\n",
       "  line-height: 1em;\n",
       "  font-family: monospace;\n",
       "  background-color: var(--sklearn-color-background);\n",
       "  border-radius: 1rem;\n",
       "  height: 1rem;\n",
       "  width: 1rem;\n",
       "  text-decoration: none;\n",
       "  /* unfitted */\n",
       "  color: var(--sklearn-color-unfitted-level-1);\n",
       "  border: var(--sklearn-color-unfitted-level-1) 1pt solid;\n",
       "}\n",
       "\n",
       "#sk-container-id-3 a.estimator_doc_link.fitted {\n",
       "  /* fitted */\n",
       "  border: var(--sklearn-color-fitted-level-1) 1pt solid;\n",
       "  color: var(--sklearn-color-fitted-level-1);\n",
       "}\n",
       "\n",
       "/* On hover */\n",
       "#sk-container-id-3 a.estimator_doc_link:hover {\n",
       "  /* unfitted */\n",
       "  background-color: var(--sklearn-color-unfitted-level-3);\n",
       "  color: var(--sklearn-color-background);\n",
       "  text-decoration: none;\n",
       "}\n",
       "\n",
       "#sk-container-id-3 a.estimator_doc_link.fitted:hover {\n",
       "  /* fitted */\n",
       "  background-color: var(--sklearn-color-fitted-level-3);\n",
       "}\n",
       "</style><div id=\"sk-container-id-3\" class=\"sk-top-container\"><div class=\"sk-text-repr-fallback\"><pre>LassoCV()</pre><b>In a Jupyter environment, please rerun this cell to show the HTML representation or trust the notebook. <br />On GitHub, the HTML representation is unable to render, please try loading this page with nbviewer.org.</b></div><div class=\"sk-container\" hidden><div class=\"sk-item\"><div class=\"sk-estimator fitted sk-toggleable\"><input class=\"sk-toggleable__control sk-hidden--visually\" id=\"sk-estimator-id-5\" type=\"checkbox\" checked><label for=\"sk-estimator-id-5\" class=\"sk-toggleable__label fitted sk-toggleable__label-arrow fitted\">&nbsp;&nbsp;LassoCV<a class=\"sk-estimator-doc-link fitted\" rel=\"noreferrer\" target=\"_blank\" href=\"https://scikit-learn.org/1.4/modules/generated/sklearn.linear_model.LassoCV.html\">?<span>Documentation for LassoCV</span></a><span class=\"sk-estimator-doc-link fitted\">i<span>Fitted</span></span></label><div class=\"sk-toggleable__content fitted\"><pre>LassoCV()</pre></div> </div></div></div></div>"
      ],
      "text/plain": [
       "LassoCV()"
      ]
     },
     "execution_count": 19,
     "metadata": {},
     "output_type": "execute_result"
    }
   ],
   "source": [
    "from sklearn import linear_model, datasets\n",
    "lasso = linear_model.LassoCV()\n",
    "X_diabetes, y_diabetes = datasets.load_diabetes(return_X_y=True)\n",
    "lasso.fit(X_diabetes, y_diabetes)"
   ]
  },
  {
   "cell_type": "code",
   "execution_count": 20,
   "metadata": {},
   "outputs": [
    {
     "data": {
      "text/plain": [
       "0.003753767152691846"
      ]
     },
     "execution_count": 20,
     "metadata": {},
     "output_type": "execute_result"
    }
   ],
   "source": [
    "lasso.alpha_"
   ]
  },
  {
   "cell_type": "code",
   "execution_count": 21,
   "metadata": {},
   "outputs": [
    {
     "data": {
      "text/plain": [
       "0.5174210668198782"
      ]
     },
     "execution_count": 21,
     "metadata": {},
     "output_type": "execute_result"
    }
   ],
   "source": [
    "# print score for best alpha\n",
    "lasso.score(X_diabetes, y_diabetes)\n"
   ]
  },
  {
   "cell_type": "markdown",
   "metadata": {},
   "source": [
    "## Exercise\n",
    "On the diabetes dataset, find the optimal regularization parameter alpha"
   ]
  },
  {
   "cell_type": "code",
   "execution_count": 24,
   "metadata": {},
   "outputs": [
    {
     "name": "stdout",
     "output_type": "stream",
     "text": [
      "Alpha = 0.000100, Mean CV Score = 0.482318\n",
      "Alpha = 0.000132, Mean CV Score = 0.482319\n",
      "Alpha = 0.000174, Mean CV Score = 0.482319\n",
      "Alpha = 0.000230, Mean CV Score = 0.482319\n",
      "Alpha = 0.000304, Mean CV Score = 0.482319\n",
      "Alpha = 0.000401, Mean CV Score = 0.482319\n",
      "Alpha = 0.000530, Mean CV Score = 0.482317\n",
      "Alpha = 0.000700, Mean CV Score = 0.482312\n",
      "Alpha = 0.000924, Mean CV Score = 0.482303\n",
      "Alpha = 0.001220, Mean CV Score = 0.482362\n",
      "Alpha = 0.001610, Mean CV Score = 0.482459\n",
      "Alpha = 0.002126, Mean CV Score = 0.482479\n",
      "Alpha = 0.002807, Mean CV Score = 0.482506\n",
      "Alpha = 0.003707, Mean CV Score = 0.482530\n",
      "Alpha = 0.004894, Mean CV Score = 0.482455\n",
      "Alpha = 0.006462, Mean CV Score = 0.482010\n",
      "Alpha = 0.008532, Mean CV Score = 0.481308\n",
      "Alpha = 0.011265, Mean CV Score = 0.481158\n",
      "Alpha = 0.014874, Mean CV Score = 0.481409\n",
      "Alpha = 0.019638, Mean CV Score = 0.481752\n",
      "Alpha = 0.025929, Mean CV Score = 0.481885\n",
      "Alpha = 0.034236, Mean CV Score = 0.482099\n",
      "Alpha = 0.045204, Mean CV Score = 0.482060\n",
      "Alpha = 0.059685, Mean CV Score = 0.481934\n",
      "Alpha = 0.078805, Mean CV Score = 0.481081\n",
      "Alpha = 0.104050, Mean CV Score = 0.479151\n",
      "Alpha = 0.137382, Mean CV Score = 0.476354\n",
      "Alpha = 0.181393, Mean CV Score = 0.472355\n",
      "Alpha = 0.239503, Mean CV Score = 0.465555\n",
      "Alpha = 0.316228, Mean CV Score = 0.456633\n",
      "Best alpha:  0.0037065129109221566\n"
     ]
    }
   ],
   "source": [
    "\"\"\" \n",
    "On the diabetes dataset, find the optimal regularization parameter alpha \n",
    "\"\"\"\n",
    "import numpy as np\n",
    "from sklearn import linear_model, datasets\n",
    "from sklearn.model_selection import GridSearchCV\n",
    "\n",
    "# Load dataset\n",
    "X_diabetes, y_diabetes = datasets.load_diabetes(return_X_y=True)\n",
    "# Define the range of alpha values\n",
    "alphas = np.logspace(-4, -0.5, 30)\n",
    "\n",
    "# GridSearchCV object\n",
    "lasso = linear_model.Lasso()\n",
    "grid = GridSearchCV(estimator=lasso, param_grid=dict(alpha=alphas), n_jobs=-1)\n",
    "\n",
    "# Fit the model\n",
    "grid.fit(X_diabetes, y_diabetes)\n",
    "\n",
    "# Print the alphas and the results\n",
    "for i in range(len(grid.cv_results_[\"mean_test_score\"])):\n",
    "    print(f\"Alpha = {alphas[i]:.6f}, Mean CV Score = {grid.cv_results_['mean_test_score'][i]:.6f}\")\n",
    "\n",
    "# Print the best alpha value\n",
    "print(\"Best alpha: \", grid.best_estimator_.alpha)\n",
    "\n",
    "# Correcciones:\n",
    "# guardar los scores y la desviación estandar de los resultados\n",
    "scores = grid.cv_results_[\"mean_test_score\"]\n",
    "scores_std = grid.cv_results_[\"std_test_score\"]\n"
   ]
  },
  {
   "cell_type": "code",
   "execution_count": 25,
   "metadata": {},
   "outputs": [
    {
     "data": {
      "text/plain": [
       "(0.0001, 0.31622776601683794)"
      ]
     },
     "execution_count": 25,
     "metadata": {},
     "output_type": "execute_result"
    },
    {
     "data": {
      "image/png": "[encoded data removed]",
      "text/plain": [
       "<Figure size 640x480 with 1 Axes>"
      ]
     },
     "metadata": {},
     "output_type": "display_data"
    }
   ],
   "source": [
    "# Plot the results + error lines (std.errors of the scores)\n",
    "plt.figure()\n",
    "plt.semilogx(alphas, scores)\n",
    "\n",
    "# Calcula el error estandar dividiendo la d.e. entre la raiz cuadrada del número de pliegues\n",
    "std_error = scores_std / np.sqrt(n_folds)\n",
    "\n",
    "plt.semilogx(alphas, scores + std_error, 'b--')\n",
    "plt.semilogx(alphas, scores - std_error, 'b--')\n",
    "plt.fill_between(alphas, scores + std_error, scores - std_error, alpha=0.2)\n",
    "\n",
    "plt.ylabel('CV score +/- std error')\n",
    "plt.xlabel('alpha')\n",
    "plt.axhline(np.max(scores), linestyle='--', color='.5')\n",
    "plt.xlim([alphas[0], alphas[-1]])\n"
   ]
  },
  {
   "cell_type": "markdown",
   "metadata": {},
   "source": [
    "#### How much can we trust the selection of alpha?"
   ]
  },
  {
   "cell_type": "code",
   "execution_count": 27,
   "metadata": {},
   "outputs": [
    {
     "name": "stdout",
     "output_type": "stream",
     "text": [
      "Answer to the bonus question: how much can you trust the selection of alpha?\n",
      "\n",
      "Alpha parameters maximising the generalization score on different\n",
      "subsets of the data:\n",
      "[fold 0] alpha: 0.05968, score: 0.54209\n",
      "[fold 1] alpha: 0.04520, score: 0.15521\n",
      "[fold 2] alpha: 0.07880, score: 0.45192\n",
      "\n",
      "Answer: Not very much since we obtained different alphas for different\n",
      "subsets of the data and moreover, the scores for these alphas differ\n",
      "quite substantially.\n"
     ]
    }
   ],
   "source": [
    "# To answer this question we use the LassoCV object that sets its alpha\n",
    "# parameter automatically from the data by internal cross-validation (i.e. it\n",
    "# performs cross-validation on the training data it receives).\n",
    "# We use external cross-validation to see how much the automatically obtained\n",
    "# alphas differ across different cross-validation folds.\n",
    "from sklearn.linear_model import LassoCV\n",
    "from sklearn.model_selection import KFold\n",
    "\n",
    "lasso_cv = LassoCV(alphas=alphas, random_state=0, max_iter=10000)\n",
    "k_fold = KFold(3)\n",
    "\n",
    "print(\"Answer to the bonus question:\", \"how much can you trust the selection of alpha?\")\n",
    "print()\n",
    "print(\"Alpha parameters maximising the generalization score on different\")\n",
    "print(\"subsets of the data:\")\n",
    "for k, (train, test) in enumerate(k_fold.split(X, y)):\n",
    "    lasso_cv.fit(X[train], y[train])\n",
    "    print(\n",
    "        \"[fold {0}] alpha: {1:.5f}, score: {2:.5f}\".format(\n",
    "            k, lasso_cv.alpha_, lasso_cv.score(X[test], y[test])\n",
    "        )\n",
    "    )\n",
    "print()\n",
    "print(\"Answer: Not very much since we obtained different alphas for different\")\n",
    "print(\"subsets of the data and moreover, the scores for these alphas differ\")\n",
    "print(\"quite substantially.\")\n",
    "\n",
    "plt.show()"
   ]
  },
  {
   "cell_type": "markdown",
   "metadata": {},
   "source": [
    "Since the alpha varied for each subset, and more importantly, the scores varied more, the 'optimal' value of alpha varies significantly depending on the data subset. \n",
    "\n",
    "This sugests that the alpha parameter can't be trusted, and we should either:\n",
    "\n",
    "    - Use more folds to reduce the variability\n",
    "\n",
    "    - Use more or different parameters\n",
    "\n",
    "    - use other regularization techniques such as Ridge or \"Elastic Net\"\n",
    "\n",
    "    - Nested cross-validation\n",
    "\n",
    "    - model ensemble, train multiple models and average their predictions\n",
    "    \n",
    "    - Evaluation based in multiple scoring techniques"
   ]
  }
 ],
 "metadata": {
  "kernelspec": {
   "display_name": "scikitlearn_tutorial_venv",
   "language": "python",
   "name": "python3"
  },
  "language_info": {
   "codemirror_mode": {
    "name": "ipython",
    "version": 3
   },
   "file_extension": ".py",
   "mimetype": "text/x-python",
   "name": "python",
   "nbconvert_exporter": "python",
   "pygments_lexer": "ipython3",
   "version": "3.12.1"
  }
 },
 "nbformat": 4,
 "nbformat_minor": 2
}
