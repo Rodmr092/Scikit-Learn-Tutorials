{
 "cells": [
  {
   "cell_type": "markdown",
   "metadata": {},
   "source": [
    "# Model selection: choosing estimators and their parameters¶\n"
   ]
  },
  {
   "cell_type": "markdown",
   "metadata": {},
   "source": [
    "## Score, and cross-validated scores"
   ]
  },
  {
   "cell_type": "markdown",
   "metadata": {},
   "source": [
    "score evaluates the quality of fit (or the prediction) on new data."
   ]
  },
  {
   "cell_type": "code",
   "execution_count": 1,
   "metadata": {},
   "outputs": [
    {
     "data": {
      "text/plain": [
       "0.98"
      ]
     },
     "execution_count": 1,
     "metadata": {},
     "output_type": "execute_result"
    }
   ],
   "source": [
    "from sklearn import datasets, svm\n",
    "X_digits, y_digits = datasets.load_digits(return_X_y=True)\n",
    "svc = svm.SVC(C=1, kernel='linear')\n",
    "# Entrena el modelo con todos los datos menos los últimos 100, y evalúa en los últimos 100\n",
    "svc.fit(X_digits[:-100], y_digits[:-100]).score(X_digits[-100:], y_digits[-100:])\n"
   ]
  },
  {
   "cell_type": "markdown",
   "metadata": {},
   "source": [
    "### KFold cross validation\n",
    "\n",
    "A way to obtain a better measure of accuracy is to split the data in folds to subsequently train and test on each of these folds."
   ]
  },
  {
   "cell_type": "code",
   "execution_count": 8,
   "metadata": {},
   "outputs": [
    {
     "name": "stdout",
     "output_type": "stream",
     "text": [
      "[0.9348914858096828, 0.9565943238731218, 0.9398998330550918]\n"
     ]
    }
   ],
   "source": [
    "import numpy as np\n",
    "X_folds = np.array_split(X_digits, 3) # Split the data into 3 (almost) equal parts\n",
    "y_folds = np.array_split(y_digits, 3)\n",
    "scores = list() # Initialize empty list\n",
    "\n",
    "for k in range(3): # Por cada fold k\n",
    "    X_train = list(X_folds) # Copia de la lista de folds\n",
    "    X_test = X_train.pop(k) # Extrae el elemento en la posición 'k' actual y se usará como segmento prueba\n",
    "    X_train = np.concatenate(X_train) # concatena los elementos restantes para formar el segmento de entrenamiento\n",
    "    # Se repiten los pasos para las etiquetas\n",
    "    y_train = list(y_folds)\n",
    "    y_test = y_train.pop(k)\n",
    "    y_train = np.concatenate(y_train)\n",
    "    # Se entrena el modelo y se evalúa\n",
    "    scores.append(svc.fit(X_train, y_train).score(X_test, y_test))  \n",
    "print(scores)\n"
   ]
  },
  {
   "cell_type": "markdown",
   "metadata": {},
   "source": [
    "## Cross-validation generators"
   ]
  }
 ],
 "metadata": {
  "kernelspec": {
   "display_name": "ScikitLearn Tutorial Venv",
   "language": "python",
   "name": "scikitlearn_tutorial_venv"
  },
  "language_info": {
   "codemirror_mode": {
    "name": "ipython",
    "version": 3
   },
   "file_extension": ".py",
   "mimetype": "text/x-python",
   "name": "python",
   "nbconvert_exporter": "python",
   "pygments_lexer": "ipython3",
   "version": "3.12.1"
  }
 },
 "nbformat": 4,
 "nbformat_minor": 2
}
